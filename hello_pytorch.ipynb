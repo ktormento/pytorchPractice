{
 "cells": [
  {
   "cell_type": "code",
   "execution_count": 1,
   "id": "bcb5826a-1c27-4373-a612-f49ecd9640a2",
   "metadata": {},
   "outputs": [],
   "source": [
    "import pandas as pd\n",
    "from os import listdir"
   ]
  },
  {
   "cell_type": "code",
   "execution_count": 2,
   "id": "e937b684-f698-4ad1-9a29-e04c851b91b6",
   "metadata": {},
   "outputs": [],
   "source": [
    "path_data='../../../Documents/Data/PYTORCH/titanic'"
   ]
  },
  {
   "cell_type": "code",
   "execution_count": 3,
   "id": "9fb186c1-15ea-4b33-9ef0-6ea4a009ca0d",
   "metadata": {},
   "outputs": [],
   "source": [
    "import numpy as np\n",
    "import pandas as pd\n",
    "import seaborn as sns\n",
    "import matplotlib.pyplot as plt\n",
    "from collections import Counter\n",
    "from sklearn.utils import shuffle\n",
    "from sklearn.preprocessing import StandardScaler\n",
    "from sklearn.linear_model import LogisticRegression\n",
    "from sklearn.model_selection import train_test_split\n",
    "\n",
    "df_train = pd.read_csv(path_data + '/train.csv')\n",
    "df_test  = pd.read_csv(path_data + '/test.csv')\n",
    "df_sub   = pd.read_csv(path_data + '/gender_submission.csv')"
   ]
  },
  {
   "cell_type": "code",
   "execution_count": 4,
   "id": "0ff8736b-8d43-4813-a167-c3968e455b24",
   "metadata": {},
   "outputs": [],
   "source": [
    "df_train.drop(['Name','Ticket','Cabin'],axis=1,inplace=True)\n",
    "df_test.drop( ['Name','Ticket','Cabin'],axis=1,inplace=True)\n",
    "\n",
    "sex      = pd.get_dummies(df_train['Sex'],drop_first=True)\n",
    "embark   = pd.get_dummies(df_train['Embarked'],drop_first=True)\n",
    "df_train = pd.concat([df_train,sex,embark],axis=1)\n",
    "\n",
    "df_train.drop(['Sex','Embarked'],axis=1,inplace=True)\n",
    "\n",
    "sex     = pd.get_dummies(df_test['Sex'],drop_first=True)\n",
    "embark  = pd.get_dummies(df_test['Embarked'],drop_first=True)\n",
    "df_test = pd.concat([df_test,sex,embark],axis=1)\n",
    "\n",
    "df_test.drop(['Sex','Embarked'],axis=1,inplace=True)\n",
    "\n",
    "df_train.fillna(df_train.mean(),inplace=True)\n",
    "df_test.fillna(df_test.mean(),inplace=True)\n",
    "\n",
    "Scaler1 = StandardScaler()\n",
    "Scaler2 = StandardScaler()\n",
    "\n",
    "train_columns = df_train.columns\n",
    "test_columns  = df_test.columns\n",
    "\n",
    "df_train = pd.DataFrame(Scaler1.fit_transform(df_train))\n",
    "df_test  = pd.DataFrame(Scaler2.fit_transform(df_test))\n",
    "\n",
    "df_train.columns = train_columns\n",
    "df_test.columns  = test_columns\n",
    "\n",
    "features = df_train.iloc[:,2:].columns.tolist()\n",
    "target   = df_train.loc[:, 'Survived'].name\n",
    "\n",
    "X_train = df_train.iloc[:,2:].values\n",
    "y_train = df_train.loc[:, 'Survived'].values"
   ]
  },
  {
   "cell_type": "code",
   "execution_count": 5,
   "id": "26bffc31-cf29-4d41-9b9b-c680c0086b4e",
   "metadata": {},
   "outputs": [],
   "source": [
    "import torch\n",
    "import torch.nn as nn\n",
    "from torch.nn import functional as F\n",
    "from torch.autograd import Variable"
   ]
  },
  {
   "cell_type": "code",
   "execution_count": 6,
   "id": "70da1f55-79b7-474d-a18e-f75287bf9630",
   "metadata": {},
   "outputs": [
    {
     "name": "stdout",
     "output_type": "stream",
     "text": [
      "Net(\n",
      "  (fc1): Linear(in_features=8, out_features=512, bias=True)\n",
      "  (fc2): Linear(in_features=512, out_features=512, bias=True)\n",
      "  (fc3): Linear(in_features=512, out_features=2, bias=True)\n",
      "  (dropout): Dropout(p=0.2, inplace=False)\n",
      ")\n"
     ]
    }
   ],
   "source": [
    "#thank you very much https://www.kaggle.com/mburakergenc/ttianic-minimal-pytorch-mlp\n",
    "class Net(nn.Module):\n",
    "    def __init__(self):\n",
    "        super(Net, self).__init__()\n",
    "        self.fc1 = nn.Linear(8, 512)\n",
    "        self.fc2 = nn.Linear(512, 512)\n",
    "        self.fc3 = nn.Linear(512, 2)\n",
    "        self.dropout = nn.Dropout(0.2)\n",
    "        \n",
    "    def forward(self, x):\n",
    "        x = F.relu(self.fc1(x))\n",
    "        x = self.dropout(x)\n",
    "        x = F.relu(self.fc2(x))\n",
    "        x = self.dropout(x)\n",
    "        x = self.fc3(x)\n",
    "        return x\n",
    "model = Net()\n",
    "print(model)"
   ]
  },
  {
   "cell_type": "code",
   "execution_count": 7,
   "id": "cc5d462d-ceac-43e3-b701-55be439543f6",
   "metadata": {},
   "outputs": [],
   "source": [
    "criterion = nn.CrossEntropyLoss()"
   ]
  },
  {
   "cell_type": "code",
   "execution_count": 8,
   "id": "c6089680-074b-4887-afd7-b499b8570e1e",
   "metadata": {},
   "outputs": [],
   "source": [
    "optimizer = torch.optim.SGD(model.parameters(), lr=0.01)"
   ]
  },
  {
   "cell_type": "code",
   "execution_count": 9,
   "id": "a95b4e41-5ad4-436e-84b8-5136dbb6c2d9",
   "metadata": {},
   "outputs": [
    {
     "name": "stdout",
     "output_type": "stream",
     "text": [
      "Validation loss decreased (   inf ===> 0.646798). Saving the model...\n",
      "\n",
      "Epoch: 1 \tTrain Loss: 0.6467984774297335 \tTrain Accuracy: 0.0\n",
      "Validation loss decreased (0.646798 ===> 0.603162). Saving the model...\n",
      "Validation loss decreased (0.603162 ===> 0.566416). Saving the model...\n",
      "Validation loss decreased (0.566416 ===> 0.541800). Saving the model...\n",
      "Validation loss decreased (0.541800 ===> 0.518054). Saving the model...\n",
      "Validation loss decreased (0.518054 ===> 0.502010). Saving the model...\n",
      "Validation loss decreased (0.502010 ===> 0.488135). Saving the model...\n",
      "Validation loss decreased (0.488135 ===> 0.474651). Saving the model...\n",
      "Validation loss decreased (0.474651 ===> 0.460097). Saving the model...\n",
      "Validation loss decreased (0.460097 ===> 0.450782). Saving the model...\n",
      "Validation loss decreased (0.450782 ===> 0.445154). Saving the model...\n",
      "Validation loss decreased (0.445154 ===> 0.434524). Saving the model...\n",
      "Validation loss decreased (0.434524 ===> 0.434450). Saving the model...\n",
      "Validation loss decreased (0.434450 ===> 0.428628). Saving the model...\n",
      "Validation loss decreased (0.428628 ===> 0.428153). Saving the model...\n",
      "Validation loss decreased (0.428153 ===> 0.424981). Saving the model...\n",
      "Validation loss decreased (0.424981 ===> 0.419324). Saving the model...\n",
      "Validation loss decreased (0.419324 ===> 0.418573). Saving the model...\n",
      "Validation loss decreased (0.418573 ===> 0.417768). Saving the model...\n",
      "Validation loss decreased (0.417768 ===> 0.416788). Saving the model...\n",
      "Validation loss decreased (0.416788 ===> 0.413813). Saving the model...\n",
      "Validation loss decreased (0.413813 ===> 0.411175). Saving the model...\n",
      "Validation loss decreased (0.411175 ===> 0.409945). Saving the model...\n",
      "Validation loss decreased (0.409945 ===> 0.409761). Saving the model...\n",
      "Validation loss decreased (0.409761 ===> 0.405790). Saving the model...\n",
      "Validation loss decreased (0.405790 ===> 0.405180). Saving the model...\n",
      "Validation loss decreased (0.405180 ===> 0.401867). Saving the model...\n",
      "Validation loss decreased (0.401867 ===> 0.401569). Saving the model...\n",
      "Validation loss decreased (0.401569 ===> 0.398096). Saving the model...\n",
      "Validation loss decreased (0.398096 ===> 0.395879). Saving the model...\n",
      "Validation loss decreased (0.395879 ===> 0.394758). Saving the model...\n",
      "Validation loss decreased (0.394758 ===> 0.394569). Saving the model...\n",
      "Validation loss decreased (0.394569 ===> 0.393666). Saving the model...\n",
      "Validation loss decreased (0.393666 ===> 0.390274). Saving the model...\n",
      "Validation loss decreased (0.390274 ===> 0.388830). Saving the model...\n",
      "Validation loss decreased (0.388830 ===> 0.385743). Saving the model...\n",
      "Validation loss decreased (0.385743 ===> 0.385720). Saving the model...\n",
      "Validation loss decreased (0.385720 ===> 0.384464). Saving the model...\n",
      "Validation loss decreased (0.384464 ===> 0.383143). Saving the model...\n",
      "Validation loss decreased (0.383143 ===> 0.382037). Saving the model...\n",
      "Validation loss decreased (0.382037 ===> 0.379467). Saving the model...\n",
      "Validation loss decreased (0.379467 ===> 0.375395). Saving the model...\n",
      "Validation loss decreased (0.375395 ===> 0.374743). Saving the model...\n",
      "Validation loss decreased (0.374743 ===> 0.374521). Saving the model...\n",
      "Validation loss decreased (0.374521 ===> 0.371973). Saving the model...\n",
      "Validation loss decreased (0.371973 ===> 0.367245). Saving the model...\n",
      "Validation loss decreased (0.367245 ===> 0.366440). Saving the model...\n",
      "Validation loss decreased (0.366440 ===> 0.364158). Saving the model...\n",
      "Validation loss decreased (0.364158 ===> 0.364034). Saving the model...\n",
      "Validation loss decreased (0.364034 ===> 0.363509). Saving the model...\n",
      "\n",
      "Epoch: 201 \tTrain Loss: 0.3732093184343921 \tTrain Accuracy: 0.0\n",
      "Validation loss decreased (0.363509 ===> 0.362594). Saving the model...\n",
      "Validation loss decreased (0.362594 ===> 0.361860). Saving the model...\n",
      "Validation loss decreased (0.361860 ===> 0.356989). Saving the model...\n",
      "Validation loss decreased (0.356989 ===> 0.355955). Saving the model...\n",
      "Validation loss decreased (0.355955 ===> 0.354577). Saving the model...\n",
      "Validation loss decreased (0.354577 ===> 0.354252). Saving the model...\n",
      "Validation loss decreased (0.354252 ===> 0.352318). Saving the model...\n",
      "Validation loss decreased (0.352318 ===> 0.351784). Saving the model...\n",
      "Validation loss decreased (0.351784 ===> 0.351465). Saving the model...\n",
      "Validation loss decreased (0.351465 ===> 0.348703). Saving the model...\n",
      "\n",
      "Epoch: 401 \tTrain Loss: 0.3550837753708115 \tTrain Accuracy: 0.0\n",
      "Validation loss decreased (0.348703 ===> 0.348160). Saving the model...\n",
      "Validation loss decreased (0.348160 ===> 0.345697). Saving the model...\n",
      "Validation loss decreased (0.345697 ===> 0.342467). Saving the model...\n",
      "Validation loss decreased (0.342467 ===> 0.342050). Saving the model...\n",
      "Validation loss decreased (0.342050 ===> 0.340794). Saving the model...\n",
      "Training Ended! \n"
     ]
    }
   ],
   "source": [
    "#thank you very much https://www.kaggle.com/mburakergenc/ttianic-minimal-pytorch-mlp\n",
    "\n",
    "batch_size = 64\n",
    "n_epochs = 500\n",
    "batch_no = len(X_train) // batch_size\n",
    "\n",
    "train_loss = 0\n",
    "train_loss_min = np.Inf\n",
    "for epoch in range(n_epochs):\n",
    "    for i in range(batch_no):\n",
    "        start = i * batch_size\n",
    "        end   = start + batch_size\n",
    "        x_var = Variable(torch.FloatTensor(X_train[start:end]))\n",
    "        y_var = Variable(torch.LongTensor(y_train[start:end])) \n",
    "        \n",
    "        optimizer.zero_grad()\n",
    "        output = model(x_var)\n",
    "        loss   = criterion(output,y_var)\n",
    "        loss.backward()\n",
    "        optimizer.step()\n",
    "        \n",
    "        values, labels = torch.max(output, 1)\n",
    "        num_right   = np.sum(labels.data.numpy() == y_train[start:end])\n",
    "        train_loss += loss.item()*batch_size\n",
    "    \n",
    "    train_loss = train_loss / len(X_train)\n",
    "    if train_loss <= train_loss_min:\n",
    "        print(\"Validation loss decreased ({:6f} ===> {:6f}). Saving the model...\".format(train_loss_min,train_loss))\n",
    "        torch.save(model.state_dict(), \"model.pt\")\n",
    "        train_loss_min = train_loss\n",
    "    \n",
    "    if epoch % 200 == 0:\n",
    "        print('')\n",
    "        print(\"Epoch: {} \\tTrain Loss: {} \\tTrain Accuracy: {}\".format(epoch+1, train_loss,num_right / len(y_train[start:end]) ))\n",
    "print('Training Ended! ')"
   ]
  },
  {
   "cell_type": "code",
   "execution_count": 10,
   "id": "5b720ba6-9f32-491d-9395-8774370b960b",
   "metadata": {},
   "outputs": [],
   "source": [
    "X_test     = df_test.iloc[:,1:].values\n",
    "X_test_var = Variable(torch.FloatTensor(X_test), requires_grad=False) \n",
    "with torch.no_grad():\n",
    "    test_result = model(X_test_var)\n",
    "values, labels = torch.max(test_result, 1)\n",
    "survived = labels.data.numpy()"
   ]
  },
  {
   "cell_type": "code",
   "execution_count": 11,
   "id": "80e89550-c903-4f75-b8dd-7109c1170e2c",
   "metadata": {},
   "outputs": [],
   "source": [
    "submission = pd.DataFrame({'PassengerId': df_sub['PassengerId'], 'Survived': survived})\n",
    "submission.to_csv('submission.csv', index=False)"
   ]
  },
  {
   "cell_type": "code",
   "execution_count": 12,
   "id": "97859d6f-6fd1-4858-8c00-e3c759ec0586",
   "metadata": {},
   "outputs": [
    {
     "data": {
      "text/html": [
       "<div>\n",
       "<style scoped>\n",
       "    .dataframe tbody tr th:only-of-type {\n",
       "        vertical-align: middle;\n",
       "    }\n",
       "\n",
       "    .dataframe tbody tr th {\n",
       "        vertical-align: top;\n",
       "    }\n",
       "\n",
       "    .dataframe thead th {\n",
       "        text-align: right;\n",
       "    }\n",
       "</style>\n",
       "<table border=\"1\" class=\"dataframe\">\n",
       "  <thead>\n",
       "    <tr style=\"text-align: right;\">\n",
       "      <th></th>\n",
       "      <th>PassengerId</th>\n",
       "      <th>Survived</th>\n",
       "    </tr>\n",
       "  </thead>\n",
       "  <tbody>\n",
       "    <tr>\n",
       "      <th>0</th>\n",
       "      <td>892</td>\n",
       "      <td>0</td>\n",
       "    </tr>\n",
       "    <tr>\n",
       "      <th>1</th>\n",
       "      <td>893</td>\n",
       "      <td>0</td>\n",
       "    </tr>\n",
       "    <tr>\n",
       "      <th>2</th>\n",
       "      <td>894</td>\n",
       "      <td>0</td>\n",
       "    </tr>\n",
       "    <tr>\n",
       "      <th>3</th>\n",
       "      <td>895</td>\n",
       "      <td>0</td>\n",
       "    </tr>\n",
       "    <tr>\n",
       "      <th>4</th>\n",
       "      <td>896</td>\n",
       "      <td>0</td>\n",
       "    </tr>\n",
       "  </tbody>\n",
       "</table>\n",
       "</div>"
      ],
      "text/plain": [
       "   PassengerId  Survived\n",
       "0          892         0\n",
       "1          893         0\n",
       "2          894         0\n",
       "3          895         0\n",
       "4          896         0"
      ]
     },
     "execution_count": 12,
     "metadata": {},
     "output_type": "execute_result"
    }
   ],
   "source": [
    "submission.head()"
   ]
  },
  {
   "cell_type": "code",
   "execution_count": null,
   "id": "e18dd9bf-8c7d-4a6a-b9e7-b1922d014a74",
   "metadata": {},
   "outputs": [],
   "source": []
  }
 ],
 "metadata": {
  "kernelspec": {
   "display_name": "Python 3 (ipykernel)",
   "language": "python",
   "name": "python3"
  },
  "language_info": {
   "codemirror_mode": {
    "name": "ipython",
    "version": 3
   },
   "file_extension": ".py",
   "mimetype": "text/x-python",
   "name": "python",
   "nbconvert_exporter": "python",
   "pygments_lexer": "ipython3",
   "version": "3.11.11"
  }
 },
 "nbformat": 4,
 "nbformat_minor": 5
}
